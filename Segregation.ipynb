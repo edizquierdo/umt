{
 "cells": [
  {
   "attachments": {},
   "cell_type": "markdown",
   "metadata": {},
   "source": [
    "## Thomas Schelling's Segregation Model"
   ]
  },
  {
   "cell_type": "markdown",
   "metadata": {},
   "source": [
    "In 1971 Thomas Schelling published “Dynamic Models of Segregation,” which proposes a simple model of racial segregation. The Schelling model of the world is a grid; each cell represents a house. The houses are occupied by two kinds of “agents,” labeled red and blue, in roughly equal numbers. About 10% of the houses are empty.\n",
    "\n",
    "At any point in time, an agent might be happy or unhappy, depending on the other agents in the neighborhood. The neighborhood of each house is the set of eight adjacent cells. In one version of the model, agents are happy if they have at least two neighbors like themselves, and unhappy if they have one or zero.\n",
    "\n",
    "The simulation proceeds by choosing an agent at random and checking to see whether it is happy. If so, then nothing happens; if not, the agent chooses one of the unoccupied cells at random and moves.\n",
    "\n",
    "Schelling demonstrated his model with coins on a chessboard. We get the privilege to use a computer! :)\n",
    "\n",
    "The class below is one implementation of the basics of this simulation. (You are welcome to use mine, but you are also welcome to change it, or indeed make your own)."
   ]
  },
  {
   "cell_type": "code",
   "execution_count": 9,
   "metadata": {},
   "outputs": [],
   "source": [
    "import numpy as np\n",
    "import matplotlib.pyplot as plt"
   ]
  },
  {
   "cell_type": "code",
   "execution_count": 10,
   "metadata": {},
   "outputs": [],
   "source": [
    "class City():\n",
    "\n",
    "    def __init__(self, size, proportions, threshold):\n",
    "        self.size = size        \n",
    "        self.pop = np.random.choice([-1,0,1],p=proportions,size=(size,size))\n",
    "        self.threshold = threshold\n",
    "        \n",
    "    def show(self):\n",
    "        plt.imshow(self.pop, interpolation=\"nearest\", cmap=\"bwr\")\n",
    "        plt.xticks([])\n",
    "        plt.yticks([])\n",
    "        plt.show()        \n",
    "        \n",
    "    def step(self):\n",
    "        # pick random house\n",
    "        i,j = self.randomHouse()\n",
    "        # find a place to move to if it's unhappy\n",
    "        if self.numberKin(i,j) < self.threshold:\n",
    "            self.move(i,j)        \n",
    "        \n",
    "    def numberKin(self, i, j):\n",
    "        return np.count_nonzero(self.pop[i-1:i+2,j-1:j+2]==self.pop[i,j])-1\n",
    "\n",
    "    def move(self, i, j):\n",
    "        newi,newj = self.randomVacant()\n",
    "        self.pop[newi][newj] = self.pop[i][j]\n",
    "        self.pop[i][j] = 0\n",
    "        \n",
    "    def randomHouse(self):\n",
    "        found = False\n",
    "        while not found:\n",
    "            i = np.random.randint(1,self.size-1)\n",
    "            j = np.random.randint(1,self.size-1)\n",
    "            if self.pop[i][j] != 0:\n",
    "                found = True\n",
    "        return i, j\n",
    "\n",
    "    def randomVacant(self):\n",
    "        np.where(self.pop==0)\n",
    "        found = False\n",
    "        while not found:\n",
    "            i = np.random.randint(1,self.size-1)\n",
    "            j = np.random.randint(1,self.size-1)\n",
    "            if self.pop[i][j] == 0:\n",
    "                found = True\n",
    "        return i, j\n",
    "    \n",
    "    def numberNeighbors(self, i, j):\n",
    "        return np.count_nonzero(self.pop[i-1:i+2,j-1:j+2]!=0)-1    "
   ]
  },
  {
   "cell_type": "code",
   "execution_count": 14,
   "metadata": {},
   "outputs": [
    {
     "data": {
      "image/png": "[encoded data removed]",
      "text/plain": [
       "<Figure size 640x480 with 1 Axes>"
      ]
     },
     "metadata": {},
     "output_type": "display_data"
    },
    {
     "data": {
      "image/png": "[encoded data removed]",
      "text/plain": [
       "<Figure size 640x480 with 1 Axes>"
      ]
     },
     "metadata": {},
     "output_type": "display_data"
    }
   ],
   "source": [
    "c = City(50,[0.4,0.2,0.4],2)\n",
    "moves = 100000\n",
    "c.show()\n",
    "si = []\n",
    "for i in range(moves):\n",
    "    c.step()\n",
    "c.show()"
   ]
  }
 ],
 "metadata": {
  "kernelspec": {
   "display_name": "base",
   "language": "python",
   "name": "python3"
  },
  "language_info": {
   "codemirror_mode": {
    "name": "ipython",
    "version": 3
   },
   "file_extension": ".py",
   "mimetype": "text/x-python",
   "name": "python",
   "nbconvert_exporter": "python",
   "pygments_lexer": "ipython3",
   "version": "3.8.13"
  },
  "vscode": {
   "interpreter": {
    "hash": "40d3a090f54c6569ab1632332b64b2c03c39dcf918b08424e98f38b5ae0af88f"
   }
  }
 },
 "nbformat": 4,
 "nbformat_minor": 4
}
